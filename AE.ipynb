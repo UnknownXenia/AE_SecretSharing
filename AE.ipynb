{
 "cells": [
  {
   "cell_type": "code",
   "execution_count": 1,
   "id": "cc665f3c",
   "metadata": {},
   "outputs": [],
   "source": [
    "import torch\n",
    "from torchvision import datasets, transforms\n",
    "import matplotlib.pyplot as plt\n",
    "from torch.utils.data import DataLoader, random_split\n",
    "import torch.nn as nn\n",
    "import random\n",
    "import numpy as np"
   ]
  },
  {
   "cell_type": "code",
   "execution_count": 2,
   "id": "40d1ffc5",
   "metadata": {},
   "outputs": [],
   "source": [
    "transform = transforms.Compose(\n",
    "    [transforms.ToTensor(),\n",
    "     transforms.Normalize(0.5, 0.5)])\n",
    "\n",
    "train_dataset = datasets.MNIST(root='./data',\n",
    "                               train=True,\n",
    "                               download=True,\n",
    "                               transform=transform)\n",
    "test_dataset = datasets.MNIST(root='./data',\n",
    "                               train=False,\n",
    "                               download=False,\n",
    "                               transform=transform)\n",
    "\n",
    "train_loader = DataLoader(dataset=train_dataset, batch_size=64, shuffle=True)\n",
    "test_loader = DataLoader(dataset=test_dataset, batch_size=64, shuffle=False)\n",
    "\n",
    "device = torch.device(\"cuda\" if torch.cuda.is_available() else \"cpu\")\n",
    "                               "
   ]
  },
  {
   "cell_type": "code",
   "execution_count": 3,
   "id": "e776b298",
   "metadata": {},
   "outputs": [
    {
     "name": "stdout",
     "output_type": "stream",
     "text": [
      "[tensor([0, 1, 2, 3, 0, 0, 0, 0, 0, 0, 0, 0, 0, 0, 0, 0, 0, 0, 0, 0, 0, 0, 0, 0,\n",
      "        0, 0, 0, 0, 0, 0, 0, 0]), tensor([0, 0, 0, 0, 4, 5, 6, 7, 0, 0, 0, 0, 0, 0, 0, 0, 0, 0, 0, 0, 0, 0, 0, 0,\n",
      "        0, 0, 0, 0, 0, 0, 0, 0]), tensor([ 0,  0,  0,  0,  0,  0,  0,  0,  8,  9, 10, 11,  0,  0,  0,  0,  0,  0,\n",
      "         0,  0,  0,  0,  0,  0,  0,  0,  0,  0,  0,  0,  0,  0]), tensor([ 0,  0,  0,  0,  0,  0,  0,  0,  0,  0,  0,  0, 12, 13, 14, 15,  0,  0,\n",
      "         0,  0,  0,  0,  0,  0,  0,  0,  0,  0,  0,  0,  0,  0]), tensor([ 0,  0,  0,  0,  0,  0,  0,  0,  0,  0,  0,  0,  0,  0,  0,  0, 16, 17,\n",
      "        18, 19,  0,  0,  0,  0,  0,  0,  0,  0,  0,  0,  0,  0]), tensor([ 0,  0,  0,  0,  0,  0,  0,  0,  0,  0,  0,  0,  0,  0,  0,  0,  0,  0,\n",
      "         0,  0, 20, 21, 22, 23,  0,  0,  0,  0,  0,  0,  0,  0]), tensor([ 0,  0,  0,  0,  0,  0,  0,  0,  0,  0,  0,  0,  0,  0,  0,  0,  0,  0,\n",
      "         0,  0,  0,  0,  0,  0, 24, 25, 26, 27,  0,  0,  0,  0]), tensor([ 0,  0,  0,  0,  0,  0,  0,  0,  0,  0,  0,  0,  0,  0,  0,  0,  0,  0,\n",
      "         0,  0,  0,  0,  0,  0,  0,  0,  0,  0, 28, 29, 30, 31])]\n"
     ]
    }
   ],
   "source": [
    "def gen_sec(x: torch.Tensor, n: int) -> list:\n",
    "    # x now is a tensor\n",
    "    secrets = []\n",
    "    x_d = x.shape[0]\n",
    "    len_sec = x_d // n\n",
    "    for i in range(n):\n",
    "        sec = torch.zeros_like(x)\n",
    "        sec[len_sec * i: len_sec * (i + 1)] = x[len_sec * i: len_sec * (i + 1)]\n",
    "        secrets.append(sec)\n",
    "    # print(f\"x_d is {x_d}\")\n",
    "    return secrets\n",
    "\n",
    "x = torch.tensor(np.arange(32))\n",
    "secrets = gen_sec(x, 8)\n",
    "print(secrets)"
   ]
  },
  {
   "cell_type": "code",
   "execution_count": 4,
   "id": "95bd082c",
   "metadata": {},
   "outputs": [
    {
     "name": "stdout",
     "output_type": "stream",
     "text": [
      "tensor([ 0,  0,  0,  0,  0,  0,  0,  0,  8,  9, 10, 11, 12, 13, 14, 15, 16, 17,\n",
      "        18, 19, 20, 21, 22, 23, 24, 25, 26, 27, 28, 29, 30, 31])\n",
      "tensor([ 0,  1,  2,  3,  4,  5,  6,  7,  0,  0,  0,  0,  0,  0,  0,  0, 16, 17,\n",
      "        18, 19, 20, 21, 22, 23, 24, 25, 26, 27,  0,  0,  0,  0])\n"
     ]
    }
   ],
   "source": [
    "def collect_sec(secrets: list, k: int, valid=True) -> torch.Tensor:\n",
    "    n = len(secrets)\n",
    "    if valid:\n",
    "        selected_idx = random.sample(range(n), k)\n",
    "    else:\n",
    "        selected_idx = random.sample(range(n), k - 1)  # any k - 1 secrets would not work\n",
    "    collected = torch.zeros_like(secrets[0])\n",
    "    for idx in selected_idx:\n",
    "        collected += secrets[idx]\n",
    "    return collected\n",
    "\n",
    "print(collect_sec(secrets, 6, True))\n",
    "print(collect_sec(secrets, 6, False))\n",
    "    "
   ]
  },
  {
   "cell_type": "code",
   "execution_count": 11,
   "id": "3710307c",
   "metadata": {},
   "outputs": [],
   "source": [
    "class Autoencoder(nn.Module):\n",
    "    def __init__(self, n, k):\n",
    "        super(Autoencoder, self).__init__()\n",
    "        self.n = n\n",
    "        self.k = k\n",
    "        self.encoder = nn.Sequential(\n",
    "            nn.Linear(784, 256),\n",
    "            nn.ReLU(),\n",
    "            nn.Linear(256, 32),\n",
    "            # nn.ReLU(),\n",
    "            # nn.Linear(n, k),\n",
    "            # nn.ReLU(),\n",
    "        )\n",
    "\n",
    "        self.decoder = nn.Sequential(\n",
    "            nn.Linear(32, 256),\n",
    "            nn.ReLU(),\n",
    "            nn.Linear(256, 784),\n",
    "            nn.Sigmoid(),\n",
    "        )\n",
    "\n",
    "    def forward(self, x):\n",
    "        x = self.encoder(x)  \n",
    "        x = self.decoder(x)\n",
    "        return x\n",
    "    \n",
    "    # def forward(self, x):\n",
    "    #     x = self.encoder(x)  \n",
    "    #     secrets = gen_sec(x, self.n)  # a pool with n secrets\n",
    "        \n",
    "    #     valid_x = collect_sec(secrets, self.k, True)\n",
    "    #     invalid_x = collect_sec(secrets, self.k, False)\n",
    "    #     valid_y = self.decoder(valid_x)\n",
    "    #     invalid_y = self.decoder(invalid_x)\n",
    "    #     return valid_y, invalid_y"
   ]
  },
  {
   "cell_type": "code",
   "execution_count": 13,
   "id": "62071289",
   "metadata": {},
   "outputs": [
    {
     "name": "stdout",
     "output_type": "stream",
     "text": [
      "Epoch [1/300], Loss: 0.9274\n"
     ]
    }
   ],
   "source": [
    "n, k = 8, 6\n",
    "model = Autoencoder(n, k).to(device)\n",
    "\n",
    "criterion = nn.MSELoss()\n",
    "optimizer = torch.optim.Adam(model.parameters(), lr=0.001)\n",
    "\n",
    "epochs = 300\n",
    "for epoch in range(epochs):\n",
    "    for img, _ in train_loader:\n",
    "        img = img.view(img.size(0), -1).to(device)\n",
    "        # invalid_img = torch.zeros_like(img)\n",
    "        # print(img.shape)\n",
    "        output = model(img)\n",
    "        loss = criterion(output, img) # + criterion(invalid_output, invalid_img)\n",
    "        optimizer.zero_grad()\n",
    "        loss.backward()\n",
    "        optimizer.step()\n",
    "    print(f'Epoch [{epoch+1}/{epochs}], Loss: {loss.item():.4f}')\n"
   ]
  },
  {
   "cell_type": "code",
   "execution_count": 81,
   "id": "57687993",
   "metadata": {
    "scrolled": true
   },
   "outputs": [
    {
     "name": "stdout",
     "output_type": "stream",
     "text": [
      "Epoch [1/30], Loss: 0.9301\n",
      "Epoch [2/30], Loss: 0.9234\n",
      "Epoch [3/30], Loss: 0.9200\n",
      "Epoch [4/30], Loss: 0.9132\n",
      "Epoch [5/30], Loss: 0.9049\n",
      "Epoch [6/30], Loss: 0.9042\n",
      "Epoch [7/30], Loss: 0.9043\n",
      "Epoch [8/30], Loss: 0.9089\n",
      "Epoch [9/30], Loss: 0.9106\n",
      "Epoch [10/30], Loss: 0.9011\n",
      "Epoch [11/30], Loss: 0.9066\n",
      "Epoch [12/30], Loss: 0.9090\n",
      "Epoch [13/30], Loss: 0.8867\n",
      "Epoch [14/30], Loss: 0.9208\n",
      "Epoch [15/30], Loss: 0.8922\n",
      "Epoch [16/30], Loss: 0.8839\n",
      "Epoch [17/30], Loss: 0.8837\n",
      "Epoch [18/30], Loss: 0.8973\n",
      "Epoch [19/30], Loss: 0.8968\n",
      "Epoch [20/30], Loss: 0.8885\n",
      "Epoch [21/30], Loss: 0.8939\n",
      "Epoch [22/30], Loss: 0.8891\n",
      "Epoch [23/30], Loss: 0.8921\n",
      "Epoch [24/30], Loss: 0.8844\n",
      "Epoch [25/30], Loss: 0.8906\n",
      "Epoch [26/30], Loss: 0.9048\n",
      "Epoch [27/30], Loss: 0.9041\n",
      "Epoch [28/30], Loss: 0.8986\n",
      "Epoch [29/30], Loss: 0.8836\n",
      "Epoch [30/30], Loss: 0.8859\n"
     ]
    }
   ],
   "source": [
    "n, k = 32, 30\n",
    "# model = AutoEncoder(n, k).to(device)\n",
    "model = Autoencoder(n, k).to(device)\n",
    "\n",
    "criterion = nn.MSELoss()\n",
    "optimizer = torch.optim.Adam(model.parameters(), lr=0.001)\n",
    "\n",
    "epochs = 30\n",
    "for epoch in range(epochs):\n",
    "    for img, _ in train_loader:\n",
    "        img = img.view(img.size(0), -1).to(device)\n",
    "        invalid_img = torch.zeros_like(img)\n",
    "        # print(img.shape)\n",
    "        output, invalid_output = model(img)\n",
    "        loss = criterion(output, img) + criterion(invalid_output, invalid_img)\n",
    "        optimizer.zero_grad()\n",
    "        loss.backward()\n",
    "        optimizer.step()\n",
    "    print(f'Epoch [{epoch+1}/{epochs}], Loss: {loss.item():.4f}')\n"
   ]
  },
  {
   "cell_type": "code",
   "execution_count": 83,
   "id": "c1d0bb5e",
   "metadata": {},
   "outputs": [
    {
     "data": {
      "image/png": "[encoded data removed]",
      "text/plain": [
       "<Figure size 640x480 with 15 Axes>"
      ]
     },
     "metadata": {},
     "output_type": "display_data"
    }
   ],
   "source": [
    "fig = plt.figure()\n",
    "\n",
    "for i in range(5):\n",
    "    idx = random.randint(0, len(test_dataset) - 1)\n",
    "    img = test_dataset[idx][0][0]\n",
    "    \n",
    "    plt.subplot(3, 5, i+1)\n",
    "    plt.imshow(img)\n",
    "    plt.title(f\"Origin: {i}\")\n",
    "\n",
    "    plt.subplot(3, 5, i+6)\n",
    "    with torch.no_grad():\n",
    "        reconstructed, invalid_recons = model(img.view(-1, 784).to(device))\n",
    "    plt.imshow(reconstructed.view(28, 28).to('cpu'))\n",
    "    plt.title(f\"Recons: {i}\")\n",
    "\n",
    "    plt.subplot(3, 5, i+11)\n",
    "    plt.imshow(invalid_recons.view(28, 28).to('cpu'))\n",
    "    plt.title(f\"Recons: {i}\")"
   ]
  }
 ],
 "metadata": {
  "kernelspec": {
   "display_name": "Python 3 (ipykernel)",
   "language": "python",
   "name": "python3"
  },
  "language_info": {
   "codemirror_mode": {
    "name": "ipython",
    "version": 3
   },
   "file_extension": ".py",
   "mimetype": "text/x-python",
   "name": "python",
   "nbconvert_exporter": "python",
   "pygments_lexer": "ipython3",
   "version": "3.10.13"
  }
 },
 "nbformat": 4,
 "nbformat_minor": 5
}
